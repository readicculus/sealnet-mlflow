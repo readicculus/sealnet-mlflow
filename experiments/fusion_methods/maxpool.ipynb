{
 "cells": [
  {
   "cell_type": "code",
   "execution_count": null,
   "metadata": {},
   "outputs": [],
   "source": [
    "%load_ext autoreload\n",
    "%autoreload 2\n",
    "import os\n",
    "import numpy as np\n",
    "import torch\n",
    "import cv2\n",
    "from thebook.cv2 import load, norm\n",
    "from thebook.jupyter import funcs as jfunc\n",
    "from noaadb import Session\n",
    "from noaadb.schema.models import EOImage, HeaderMeta, IRLabelEntry, Species, IRImage, Flight, Camera, Survey\n",
    "import matplotlib.pyplot as plt\n",
    "project_path = '/home/yuval/Documents/XNOR/sealnet-mlflow/experiments/fusion_methods/'"
   ]
  },
  {
   "cell_type": "code",
   "execution_count": null,
   "metadata": {},
   "outputs": [],
   "source": [
    "\n",
    "\n",
    "def get_kotz_ir_with_sightings(s):\n",
    "    ims = s.query(IRImage).join(IRLabelEntry, IRLabelEntry.image_id == IRImage.file_name)\\\n",
    "        .join(HeaderMeta)\\\n",
    "        .join(Camera)\\\n",
    "        .join(Flight)\\\n",
    "        .join(Survey).filter(Survey.name=='test_kotz_2019').all()\n",
    "    return ims\n",
    "\n",
    "def get_kotz_ir_without_sightings(s):\n",
    "    ims = s.query(IRImage).outerjoin(IRLabelEntry, IRLabelEntry.image_id == IRImage.file_name)\\\n",
    "        .filter(IRLabelEntry.image_id.is_(None))\\\n",
    "        .join(HeaderMeta)\\\n",
    "        .join(Camera)\\\n",
    "        .join(Flight)\\\n",
    "        .join(Survey).filter(Survey.name=='test_kotz_2019').all()\n",
    "    return ims\n",
    "# print(s.query(IRImage).join(HeaderMeta).join(Camera).join(Flight).join(Survey).filter(Survey.name=='test_kotz_2019').count())\n"
   ]
  },
  {
   "cell_type": "code",
   "execution_count": null,
   "metadata": {},
   "outputs": [],
   "source": []
  },
  {
   "cell_type": "code",
   "execution_count": 159,
   "metadata": {},
   "outputs": [],
   "source": [
    "def ir_to_tensor(im):\n",
    "    tensor = torch.from_numpy(im)\n",
    "    # Layers always need batch as first dimension (even for one image)\n",
    "    # unsqueeze will add it for you  \n",
    "    return tensor.unsqueeze(dim=0)\n",
    "\n",
    "def tensor_to_ir(tensor):\n",
    "    return tensor.long().squeeze(dim=0)\n",
    "\n",
    "\n",
    "def multi_maxpool(im, mp_iters=5, resize=(576, 576)):\n",
    "    im_resized = cv2.resize(im, resize) \n",
    "    im_tensor = ir_to_tensor(im_resized)\n",
    "    pool = torch.nn.MaxPool2d(kernel_size=8, stride=4)\n",
    "    im_list = []\n",
    "    im_list.append(im_resized)\n",
    "#     jfunc.plot_8_bit_ir(im_resized, size=im_resized.shape[1]/32)\n",
    "    for i in range(mp_iters-1):\n",
    "#         print(im_tensor.shape)\n",
    "        im_tensor = pool(im_tensor.float())\n",
    "        # plot the image\n",
    "        numpy_image = tensor_to_ir(im_tensor).numpy()\n",
    "        im_list.append(numpy_image)\n",
    "        \n",
    "#         jfunc.plot_8_bit_ir(final_image, size=final_image.shape[1]/32)\n",
    "    return im_list\n"
   ]
  },
  {
   "cell_type": "code",
   "execution_count": 160,
   "metadata": {},
   "outputs": [],
   "source": [
    "\n",
    "\n",
    "s = Session()\n",
    "have_rois = get_kotz_ir_with_sightings(s)[:100]\n",
    "out_path = os.path.join(project_path, 'mp_out')\n",
    "\n",
    "iters = 4\n",
    "\n",
    "have_roi_stacks = [None]*iters\n",
    "for i, roi_im in enumerate(have_rois):\n",
    "    im = load.read_ir_norm(roi_im.file_path)\n",
    "    layers = multi_maxpool(im, mp_iters=iters)\n",
    "    for j, layer_out in enumerate(layers):\n",
    "        if have_roi_stacks[j] is None:\n",
    "            have_roi_stacks[j] = np.atleast_3d(layer_out)\n",
    "        else:\n",
    "            have_roi_stacks[j] = np.append(have_roi_stacks[j], np.atleast_3d(layer_out), axis=2)\n",
    "            \n",
    "\n",
    "\n",
    "no_rois = get_kotz_ir_without_sightings(s)[:100]\n",
    "no_roi_stacks = [None]*iters\n",
    "for i, roi_im in enumerate(no_rois):\n",
    "    im = load.read_ir_norm(roi_im.file_path)\n",
    "    layers = multi_maxpool(im, mp_iters=iters)\n",
    "    for j, layer_out in enumerate(layers):\n",
    "        if no_roi_stacks[j] is None:\n",
    "            no_roi_stacks[j] = np.atleast_3d(layer_out)\n",
    "        else:\n",
    "            no_roi_stacks[j] = np.append(no_roi_stacks[j], np.atleast_3d(layer_out), axis=2)\n",
    "            \n",
    "# out_path = os.path.join(project_path, 'mp_out')\n",
    "# for i, roi_im in enumerate(no_rois):\n",
    "#     im = load.read_ir_norm(roi_im.file_path)\n",
    "#     layers = multi_maxpool(im)\n",
    "#     for j, layer_out in enumerate(layers):\n",
    "#         path = os.path.join(out_path,'no_roi','%s_%d.jpg'%(roi_im.file_name.replace('.tif',''),j))\n",
    "#         print(path)\n",
    "#         cv2.imwrite(path, layer_out)\n",
    "s.close()\n"
   ]
  },
  {
   "cell_type": "code",
   "execution_count": 161,
   "metadata": {},
   "outputs": [
    {
     "name": "stdout",
     "output_type": "stream",
     "text": [
      "(143, 143)\n"
     ]
    },
    {
     "data": {
      "image/png": "[encoded data removed]",
      "text/plain": [
       "<Figure size 432x288 with 1 Axes>"
      ]
     },
     "metadata": {
      "needs_background": "light"
     },
     "output_type": "display_data"
    },
    {
     "name": "stdout",
     "output_type": "stream",
     "text": [
      "(34, 34)\n"
     ]
    },
    {
     "data": {
      "image/png": "[encoded data removed]",
      "text/plain": [
       "<Figure size 432x288 with 1 Axes>"
      ]
     },
     "metadata": {
      "needs_background": "light"
     },
     "output_type": "display_data"
    }
   ],
   "source": [
    "%matplotlib inline\n",
    "for i in range(iters-1):\n",
    "    if i == 0: continue\n",
    "    layer = i\n",
    "    print(have_roi_stacks[layer].shape[:2])\n",
    "    plt.hist(have_roi_stacks[layer].flatten(), bins='auto')  # arguments are passed to np.histogram\n",
    "    plt.title(\"Histogram with 'auto' bins\")\n",
    "    plt.show()\n"
   ]
  },
  {
   "cell_type": "code",
   "execution_count": 162,
   "metadata": {},
   "outputs": [
    {
     "name": "stdout",
     "output_type": "stream",
     "text": [
      "(143, 143)\n"
     ]
    },
    {
     "data": {
      "image/png": "[encoded data removed]",
      "text/plain": [
       "<Figure size 432x288 with 1 Axes>"
      ]
     },
     "metadata": {
      "needs_background": "light"
     },
     "output_type": "display_data"
    },
    {
     "name": "stdout",
     "output_type": "stream",
     "text": [
      "(34, 34)\n"
     ]
    },
    {
     "data": {
      "image/png": "[encoded data removed]",
      "text/plain": [
       "<Figure size 432x288 with 1 Axes>"
      ]
     },
     "metadata": {
      "needs_background": "light"
     },
     "output_type": "display_data"
    }
   ],
   "source": [
    "%matplotlib inline\n",
    "for i in range(iters-1):\n",
    "    if i == 0: continue\n",
    "    layer = i\n",
    "    print(no_roi_stacks[layer].shape[:2])\n",
    "    plt.hist(no_roi_stacks[layer].flatten(), bins='auto')  # arguments are passed to np.histogram\n",
    "    plt.title(\"Histogram with 'auto' bins\")\n",
    "    plt.show()"
   ]
  },
  {
   "cell_type": "code",
   "execution_count": null,
   "metadata": {},
   "outputs": [],
   "source": []
  }
 ],
 "metadata": {
  "kernelspec": {
   "display_name": "Python 3",
   "language": "python",
   "name": "python3"
  },
  "language_info": {
   "codemirror_mode": {
    "name": "ipython",
    "version": 3
   },
   "file_extension": ".py",
   "mimetype": "text/x-python",
   "name": "python",
   "nbconvert_exporter": "python",
   "pygments_lexer": "ipython3",
   "version": "3.6.8"
  }
 },
 "nbformat": 4,
 "nbformat_minor": 4
}
