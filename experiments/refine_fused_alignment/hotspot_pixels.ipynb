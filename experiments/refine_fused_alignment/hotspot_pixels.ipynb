{
 "cells": [
  {
   "cell_type": "code",
   "execution_count": null,
   "metadata": {},
   "outputs": [],
   "source": [
    "%load_ext autoreload\n",
    "%autoreload 2\n",
    "from IPython.display import Image\n",
    "import os\n",
    "import sys\n",
    "os.chdir(r\"/home/yuval/Documents/XNOR/sealnet-mlflow\")\n",
    "\n",
    "import cv2\n",
    "from flow import s3_dataset, s3_cache\n",
    "from noaadb import Session\n",
    "from noaadb.schema.models import EOImage, HeaderMeta, IRLabelEntry, Species, IRImage, Flight\n",
    "from flow.util import extract_util\n",
    "import numpy as np\n",
    "\n",
    "red=[255,0,0]\n",
    "orange=[255,165,0]\n",
    "yellow=[255,255,0]\n",
    "green=[0,255,0]\n",
    "blue=[0,0,255]\n",
    "indigo=[75,0,130]\n",
    "violet=[238,130,238]\n",
    "COLORS = [red,orange,yellow,green,blue,indigo,violet]\n",
    "\n",
    "def plot_im(im):\n",
    "    import matplotlib.pyplot as plt\n",
    "    # load image using cv2....and do processing.\n",
    "    fig=plt.figure(figsize=(18, 16), dpi= 80, facecolor='w', edgecolor='k')\n",
    "    plt.imshow(im,  cmap='gray', vmin=0, vmax=255)\n",
    "    # as opencv loads in BGR format by default, we want to show it in RGB.\n",
    "    plt.show()\n",
    "    \n",
    "# normalize IR\n",
    "def min_max_norm(im):\n",
    "    im_ir = ((im - np.min(im)) / (0.0 + np.max(im) - np.min(im)))\n",
    "    im_ir = im_ir*255.0\n",
    "    im_ir = im_ir.astype(np.uint8)\n",
    "#     print(im_ir.min(), im_ir.max())\n",
    "    return im_ir\n",
    "\n",
    "def standardize(im):\n",
    "    mu = im.mean()\n",
    "    std = im.std()\n",
    "    im = (im-mu)/std\n",
    "    im[im<0] = 0\n",
    "    im = im*255.0\n",
    "    return im\n",
    "\n",
    "def percentile(im):\n",
    "    mi = np.percentile( im, 1 )\n",
    "    ma = np.percentile( im, 100 )\n",
    "    normalized = ( im - mi ) / ( ma - mi )\n",
    "    normalized = normalized * 255\n",
    "    normalized[ normalized < 0 ] = 0\n",
    "    return normalized\n",
    "    \n",
    "        \n",
    "def get_ir_for_all_flights():\n",
    "    cams = extract_util.query_cfs(s,[],[],[])\n",
    "    fl_cam_dict={}\n",
    "    for cam in cams:\n",
    "        if cam.cam_name == 'R':\n",
    "            continue\n",
    "        ir_images = s.query(IRImage).join(IRLabelEntry, IRLabelEntry.image_id == IRImage.file_name).join(Species).filter(Species.name.contains('Seal')).join(HeaderMeta)\\\n",
    "            .filter(HeaderMeta.camera_id == cam.id).all()\n",
    "        fl_cam_dict[cam.flight.flight_name + '_' + cam.cam_name] = ir_images\n",
    "    return fl_cam_dict\n",
    "\n",
    "def read_ir(fp):\n",
    "    im = cv2.imread(fp, cv2.IMREAD_ANYDEPTH)\n",
    "    im_norm = min_max_norm(im)\n",
    "    return im_norm"
   ]
  },
  {
   "cell_type": "code",
   "execution_count": 36,
   "metadata": {},
   "outputs": [
    {
     "name": "stdout",
     "output_type": "stream",
     "text": [
      "405\n",
      "299\n",
      "555\n",
      "1043\n",
      "695\n",
      "557\n",
      "268\n",
      "206\n",
      "fl06_C\n"
     ]
    }
   ],
   "source": [
    "s = Session()\n",
    "fl_dict = get_ir_for_all_flights()\n",
    "fl_cutouts = {}\n",
    "for cfl in fl_dict:\n",
    "    fl_cutouts[cfl] = []\n",
    "    print(len(fl_dict[cfl]))\n",
    "    for im in fl_dict[cfl]:\n",
    "        ir_im = read_ir(im.file_path)\n",
    "        labels = s.query(IRLabelEntry).filter(IRLabelEntry.image_id == im.file_name).all()\n",
    "        cutouts = []\n",
    "        for l in labels:\n",
    "            cutout = ir_im[l.y1:l.y2, l.x1:l.x2]\n",
    "            fl_cutouts[cfl].append(cutout.flatten())\n",
    "print(cfl)\n",
    "\n",
    "\n",
    "    \n",
    "s.close()"
   ]
  },
  {
   "cell_type": "code",
   "execution_count": 39,
   "metadata": {},
   "outputs": [
    {
     "name": "stdout",
     "output_type": "stream",
     "text": [
      "fl05_L\n",
      "322 labels extracted\n",
      "77.0\n",
      "95.60900275350174\n"
     ]
    },
    {
     "data": {
      "image/png": "[encoded data removed]",
      "text/plain": [
       "<Figure size 432x288 with 1 Axes>"
      ]
     },
     "metadata": {
      "needs_background": "light"
     },
     "output_type": "display_data"
    },
    {
     "name": "stdout",
     "output_type": "stream",
     "text": [
      "fl05_C\n",
      "1105 labels extracted\n",
      "122.0\n",
      "130.80298379994127\n"
     ]
    },
    {
     "data": {
      "image/png": "[encoded data removed]",
      "text/plain": [
       "<Figure size 432x288 with 1 Axes>"
      ]
     },
     "metadata": {
      "needs_background": "light"
     },
     "output_type": "display_data"
    },
    {
     "name": "stdout",
     "output_type": "stream",
     "text": [
      "fl04_L\n",
      "1482 labels extracted\n",
      "75.0\n",
      "93.2845182244677\n"
     ]
    },
    {
     "data": {
      "image/png": "[encoded data removed]",
      "text/plain": [
       "<Figure size 432x288 with 1 Axes>"
      ]
     },
     "metadata": {
      "needs_background": "light"
     },
     "output_type": "display_data"
    },
    {
     "name": "stdout",
     "output_type": "stream",
     "text": [
      "fl04_C\n",
      "1627 labels extracted\n",
      "111.0\n",
      "123.59857923877843\n"
     ]
    },
    {
     "data": {
      "image/png": "[encoded data removed]",
      "text/plain": [
       "<Figure size 432x288 with 1 Axes>"
      ]
     },
     "metadata": {
      "needs_background": "light"
     },
     "output_type": "display_data"
    },
    {
     "name": "stdout",
     "output_type": "stream",
     "text": [
      "fl07_L\n",
      "5191 labels extracted\n",
      "73.0\n",
      "90.13680645482617\n"
     ]
    },
    {
     "data": {
      "image/png": "[encoded data removed]",
      "text/plain": [
       "<Figure size 432x288 with 1 Axes>"
      ]
     },
     "metadata": {
      "needs_background": "light"
     },
     "output_type": "display_data"
    },
    {
     "name": "stdout",
     "output_type": "stream",
     "text": [
      "fl07_C\n",
      "2134 labels extracted\n",
      "102.0\n",
      "117.88749941890195\n"
     ]
    },
    {
     "data": {
      "image/png": "[encoded data removed]",
      "text/plain": [
       "<Figure size 432x288 with 1 Axes>"
      ]
     },
     "metadata": {
      "needs_background": "light"
     },
     "output_type": "display_data"
    },
    {
     "name": "stdout",
     "output_type": "stream",
     "text": [
      "fl06_L\n",
      "1663 labels extracted\n",
      "62.0\n",
      "87.56043838545844\n"
     ]
    },
    {
     "data": {
      "image/png": "[encoded data removed]",
      "text/plain": [
       "<Figure size 432x288 with 1 Axes>"
      ]
     },
     "metadata": {
      "needs_background": "light"
     },
     "output_type": "display_data"
    },
    {
     "name": "stdout",
     "output_type": "stream",
     "text": [
      "fl06_C\n",
      "468 labels extracted\n",
      "113.0\n",
      "126.03922407645129\n"
     ]
    },
    {
     "data": {
      "image/png": "[encoded data removed]",
      "text/plain": [
       "<Figure size 432x288 with 1 Axes>"
      ]
     },
     "metadata": {
      "needs_background": "light"
     },
     "output_type": "display_data"
    }
   ],
   "source": [
    "import matplotlib.pyplot as plt\n",
    "vals = []\n",
    "%matplotlib inline\n",
    "for k in fl_cutouts:\n",
    "    print(k)\n",
    "    print('%d labels extracted'%len(cutouts))\n",
    "    cutouts = np.array(fl_cutouts[k])\n",
    "    flat_arr = np.concatenate(cutouts)\n",
    "    print(np.median(flat_arr))\n",
    "    print(np.mean(flat_arr))    \n",
    "    hist, bins = np.histogram(flat_arr, bins=250)\n",
    "    width = 0.7 * (bins[1] - bins[0])\n",
    "    center = (bins[:-1] + bins[1:]) / 2\n",
    "    plt.bar(center, hist, align='center', width=width)\n",
    "    plt.show()"
   ]
  },
  {
   "cell_type": "code",
   "execution_count": null,
   "metadata": {},
   "outputs": [],
   "source": []
  },
  {
   "cell_type": "code",
   "execution_count": null,
   "metadata": {},
   "outputs": [],
   "source": []
  }
 ],
 "metadata": {
  "kernelspec": {
   "display_name": "Python 3",
   "language": "python",
   "name": "python3"
  },
  "language_info": {
   "codemirror_mode": {
    "name": "ipython",
    "version": 3
   },
   "file_extension": ".py",
   "mimetype": "text/x-python",
   "name": "python",
   "nbconvert_exporter": "python",
   "pygments_lexer": "ipython3",
   "version": "3.6.8"
  }
 },
 "nbformat": 4,
 "nbformat_minor": 4
}
